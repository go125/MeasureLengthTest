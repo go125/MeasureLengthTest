{
 "cells": [
  {
   "cell_type": "markdown",
   "metadata": {},
   "source": [
    "# 最初にトリミング"
   ]
  },
  {
   "cell_type": "code",
   "execution_count": 3,
   "metadata": {},
   "outputs": [],
   "source": [
    "import numpy as np\n",
    "from xml.etree import ElementTree\n",
    "import cv2\n",
    "from PIL import Image\n",
    "import tensorflow as tf\n",
    "import csv\n",
    "import argparse\n",
    "import os\n",
    "import pandas as pd\n",
    "import glob\n",
    "import matplotlib.pyplot as plt\n",
    "import pickle\n",
    "\n",
    "%matplotlib inline"
   ]
  },
  {
   "cell_type": "code",
   "execution_count": 4,
   "metadata": {},
   "outputs": [],
   "source": [
    "image_path = '../img'\n",
    "image_path2 = '../calib'\n",
    "save_path=\"../result_img\"\n",
    "save_path2=\"../result_calib\"\n",
    "option = \"use_const\""
   ]
  },
  {
   "cell_type": "code",
   "execution_count": 5,
   "metadata": {},
   "outputs": [],
   "source": [
    "def img_size_change():\n",
    "    global image_path,image_path2,save_path,save_path2\n",
    "    images = glob.glob(image_path+'/*.jpg')\n",
    "\n",
    "    print(images)\n",
    "\n",
    "    for indx, fname in enumerate(images):\n",
    "        img = cv2.imread(fname)\n",
    "        img2=img[1100:2340,0:4031]\n",
    "        img3=cv2.resize(img2,(416,128))\n",
    "        img_size = (img3.shape[1], img3.shape[0])\n",
    "        print(img_size)\n",
    "        #plt.imshow(img3)\n",
    "        print(save_path+\"/\"+str(indx)+\".jpg\")\n",
    "        cv2.imwrite(save_path+\"/\"+str(indx)+\".jpg\",img3)\n",
    "        images = glob.glob(image_path+'/*.jpg')\n",
    "    \n",
    "    images = glob.glob(image_path2+'/*.jpg')\n",
    "    print(images)\n",
    "\n",
    "    for indx, fname in enumerate(images):\n",
    "        img = cv2.imread(fname)\n",
    "        img2=img[1100:2340,0:4031]\n",
    "        img3=cv2.resize(img2,(416,128))\n",
    "        img_size = (img3.shape[1], img3.shape[0])\n",
    "        print(img_size)\n",
    "        #plt.imshow(img3)\n",
    "        print(save_path2+\"/\"+str(indx)+\".jpg\")\n",
    "        cv2.imwrite(save_path2+\"/\"+str(indx)+\".jpg\",img3)"
   ]
  },
  {
   "cell_type": "code",
   "execution_count": 6,
   "metadata": {},
   "outputs": [
    {
     "name": "stdout",
     "output_type": "stream",
     "text": [
      "['../img/IMG_8633.jpg']\n",
      "(416, 128)\n",
      "../result_img/0.jpg\n",
      "['../calib/IMG_8649.jpg', '../calib/IMG_8648.jpg', '../calib/IMG_8638.jpg', '../calib/IMG_8639.jpg', '../calib/IMG_8643.jpg', '../calib/IMG_8642.jpg', '../calib/IMG_8656.jpg', '../calib/IMG_8640.jpg', '../calib/IMG_8654.jpg', '../calib/IMG_8655.jpg', '../calib/IMG_8641.jpg', '../calib/IMG_8645.jpg', '../calib/IMG_8651.jpg', '../calib/IMG_8650.jpg', '../calib/IMG_8644.jpg', '../calib/IMG_8652.jpg', '../calib/IMG_8646.jpg', '../calib/IMG_8647.jpg']\n",
      "(416, 128)\n",
      "../result_calib/0.jpg\n",
      "(416, 128)\n",
      "../result_calib/1.jpg\n",
      "(416, 128)\n",
      "../result_calib/2.jpg\n",
      "(416, 128)\n",
      "../result_calib/3.jpg\n",
      "(416, 128)\n",
      "../result_calib/4.jpg\n",
      "(416, 128)\n",
      "../result_calib/5.jpg\n",
      "(416, 128)\n",
      "../result_calib/6.jpg\n",
      "(416, 128)\n",
      "../result_calib/7.jpg\n",
      "(416, 128)\n",
      "../result_calib/8.jpg\n",
      "(416, 128)\n",
      "../result_calib/9.jpg\n",
      "(416, 128)\n",
      "../result_calib/10.jpg\n",
      "(416, 128)\n",
      "../result_calib/11.jpg\n",
      "(416, 128)\n",
      "../result_calib/12.jpg\n",
      "(416, 128)\n",
      "../result_calib/13.jpg\n",
      "(416, 128)\n",
      "../result_calib/14.jpg\n",
      "(416, 128)\n",
      "../result_calib/15.jpg\n",
      "(416, 128)\n",
      "../result_calib/16.jpg\n",
      "(416, 128)\n",
      "../result_calib/17.jpg\n"
     ]
    }
   ],
   "source": [
    "img_size_change()"
   ]
  },
  {
   "cell_type": "markdown",
   "metadata": {},
   "source": [
    "# 台形設定"
   ]
  },
  {
   "cell_type": "code",
   "execution_count": 7,
   "metadata": {},
   "outputs": [],
   "source": [
    "file_names=[]\n",
    "for file in os.listdir(save_path):\n",
    "    # ファイルのみ、拡張子なしで取得\n",
    "    if os.path.isfile(os.path.join(save_path, file)):\n",
    "        file_names.append(os.path.basename(file))"
   ]
  },
  {
   "cell_type": "code",
   "execution_count": 77,
   "metadata": {},
   "outputs": [],
   "source": [
    "def decide_trapezoids(option):\n",
    "    trapezoids = []\n",
    "    if option==\"use_const\":\n",
    "        for i in range(len(file_names)):\n",
    "            trapezoid=[180,210,175,228,77,90]\n",
    "            trapezoids.append(trapezoid)\n",
    "    return (trapezoids)"
   ]
  },
  {
   "cell_type": "code",
   "execution_count": 78,
   "metadata": {},
   "outputs": [],
   "source": [
    "trapezoids=decide_trapezoids(option)\n",
    "trapezoids_for_dfv=decide_trapezoids(option)"
   ]
  },
  {
   "cell_type": "code",
   "execution_count": 79,
   "metadata": {},
   "outputs": [],
   "source": [
    "def draw_images(image_file,trapezoid,x_split=1,y_split=1):\n",
    "    \n",
    "    global save_path\n",
    "    f_name=save_path+\"/\"+image_file\n",
    "    #print(f_name)\n",
    "    img=cv2.imread(f_name)\n",
    "    #plt.imshow(cv2.cvtColor(img, cv2.COLOR_BGR2RGB))\n",
    "    \n",
    "    \n",
    "    \n",
    "    #infile_xml = open(base_path  +'annotations/xmls/' + image_file)\n",
    "    #tree = ElementTree.parse(infile_xml)\n",
    "    #root = tree.getroot()\n",
    "    \n",
    "    #for obj in root.iter('object'):\n",
    "        #cls_name = obj.find('name').text\n",
    "        #xmlbox = obj.find('bndbox')\n",
    "        #xmin = int(xmlbox.find('xmin').text)\n",
    "        #xmax = int(xmlbox.find('xmax').text)\n",
    "        #ymin = int(xmlbox.find('ymin').text)\n",
    "        #ymax = int(xmlbox.find('ymax').text)\n",
    "\n",
    "        #font = cv2.FONT_HERSHEY_SIMPLEX\n",
    "\n",
    "        # put text\n",
    "        #cv2.putText(img,cls_name,(xmin,ymin-10),font,1,(0,255,0),2,cv2.LINE_AA)\n",
    "\n",
    "        # draw bounding box\n",
    "        #cv2.rectangle(img, (xmin, ymin), (xmax, ymax), (0,255,0),3)\n",
    "                      \n",
    "    x_top_left=trapezoid[0]\n",
    "    x_top_right=trapezoid[1]\n",
    "    x_bottom_left=trapezoid[2]\n",
    "    x_bottom_right=trapezoid[3]\n",
    "    y_top=trapezoid[4]\n",
    "    y_bottom=trapezoid[5]\n",
    "    \n",
    "    pts = np.array([[x_top_left,y_top],[x_bottom_left,y_bottom],[x_bottom_right,y_bottom],[x_top_right,y_top]])\n",
    "    \n",
    "    cv2.polylines(img,[pts],True,(0,255,255),2)\n",
    "    \n",
    "    pts2=[]\n",
    "    \n",
    "    #grid_xとして許される最大値はx_split-1\n",
    "    grid_x_max=x_split-1\n",
    "    #グリッドのxの値を初期値1に設定\n",
    "    grid_x=1\n",
    "    \n",
    "    while grid_x<=grid_x_max:\n",
    "        #現在のgrid_xについてグリッド上下端の座標を決定する\n",
    "        x_top_line=int(x_top_left+(x_top_right-x_top_left)*(grid_x/x_split))\n",
    "        x_bottom_line=int(x_bottom_left+(x_bottom_right-x_bottom_left)*(grid_x/x_split))\n",
    "        pts2.append([[x_top_line,y_top],[x_bottom_line,y_bottom]])\n",
    "        grid_x+=1\n",
    " \n",
    "    grid_y_max=y_split-1\n",
    "    grid_y=1\n",
    "    \n",
    "    while grid_y<=grid_y_max:\n",
    "        \n",
    "        x_left_line=int(x_top_left+(x_bottom_left-x_top_left)*(grid_y/y_split))\n",
    "        x_right_line=int(x_top_right+(x_bottom_right-x_top_right)*(grid_y/y_split))\n",
    "        y_line=int(y_top+(y_bottom-y_top)*(grid_y/y_split))\n",
    "        pts2.append([[x_left_line,y_line],[x_right_line,y_line]])\n",
    "        grid_y+=1\n",
    "    \n",
    "    for line in pts2:\n",
    "        \n",
    "        line=np.array(line)\n",
    "        cv2.polylines(img,[line],True,(0,255,255),2)\n",
    "    \n",
    "    \n",
    "    return img"
   ]
  },
  {
   "cell_type": "code",
   "execution_count": 80,
   "metadata": {},
   "outputs": [
    {
     "data": {
      "image/png": "[encoded data removed]",
      "text/plain": [
       "<Figure size 432x288 with 1 Axes>"
      ]
     },
     "metadata": {
      "needs_background": "light"
     },
     "output_type": "display_data"
    }
   ],
   "source": [
    "for number, image in enumerate(file_names[0:1]):\n",
    "    trapezoid=trapezoids[number]\n",
    "    #print(trapezoid)\n",
    "    img = draw_images(image,trapezoid)\n",
    "    plt.axis('on')\n",
    "    plt.imshow(cv2.cvtColor(img, cv2.COLOR_BGR2RGB))\n",
    "\n"
   ]
  },
  {
   "cell_type": "markdown",
   "metadata": {},
   "source": [
    "# Depth mapの作成"
   ]
  },
  {
   "cell_type": "code",
   "execution_count": 81,
   "metadata": {},
   "outputs": [],
   "source": [
    "save_path3=\"../depth\""
   ]
  },
  {
   "cell_type": "code",
   "execution_count": 82,
   "metadata": {},
   "outputs": [],
   "source": [
    "# struct2depth_evalを実行して入手"
   ]
  },
  {
   "cell_type": "code",
   "execution_count": null,
   "metadata": {},
   "outputs": [],
   "source": []
  },
  {
   "cell_type": "code",
   "execution_count": null,
   "metadata": {},
   "outputs": [],
   "source": []
  },
  {
   "cell_type": "code",
   "execution_count": null,
   "metadata": {},
   "outputs": [],
   "source": []
  },
  {
   "cell_type": "code",
   "execution_count": null,
   "metadata": {},
   "outputs": [],
   "source": []
  },
  {
   "cell_type": "markdown",
   "metadata": {},
   "source": [
    "# 距離測定"
   ]
  },
  {
   "cell_type": "code",
   "execution_count": null,
   "metadata": {},
   "outputs": [],
   "source": []
  },
  {
   "cell_type": "code",
   "execution_count": null,
   "metadata": {},
   "outputs": [],
   "source": []
  },
  {
   "cell_type": "code",
   "execution_count": null,
   "metadata": {},
   "outputs": [],
   "source": []
  },
  {
   "cell_type": "code",
   "execution_count": 83,
   "metadata": {},
   "outputs": [],
   "source": [
    "def undistort_img():\n",
    "    # Prepare object points 0,0,0 ... 8,5,0\n",
    "    obj_pts = np.zeros((4*4,3), np.float32)\n",
    "    #obj_pts[:,:2] = np.mgrid[0:7, 0:10].T.reshape(-1,2)\n",
    "    #これを物理単位にしないとダメそう\n",
    "    \n",
    "    obj_pts[:,:2] = np.mgrid[0:4, 0:4].T.reshape(-1,2)*0.022\n",
    "    #物理単位(m)に変更\n",
    "    \n",
    "\n",
    "    # Stores all object points & img points from all images\n",
    "    objpoints = []\n",
    "    imgpoints = []\n",
    "\n",
    "    \n",
    "    # Get directory for all calibration images\n",
    "    \n",
    "    \n",
    "    #このフォルダ内のたくさんのチェスボード画像がキャリブレーションに使われる\n",
    "    \n",
    "    \n",
    "    \n",
    "    images = glob.glob(save_path2+'/*.jpg')\n",
    "    \n",
    "\n",
    "    for indx, fname in enumerate(images):\n",
    "        img = cv2.imread(fname)\n",
    "        \n",
    "        gray = cv2.cvtColor(img, cv2.COLOR_BGR2GRAY)\n",
    "\n",
    "        ret, corners = cv2.findChessboardCorners(gray, (4,4), None)\n",
    "\n",
    "        if ret == True:\n",
    "            objpoints.append(obj_pts)\n",
    "            imgpoints.append(corners)\n",
    "    # Test undistortion on img\n",
    "    img_size = (img.shape[1], img.shape[0])\n",
    "    ret, mtx, dist, rvecs, tvecs = cv2.calibrateCamera(objpoints, imgpoints, img_size, None,None)\n",
    "    \n",
    "    print(mtx)\n",
    "\n",
    "    dst = cv2.undistort(img, mtx, dist, None, mtx)\n",
    "    # Save camera calibration for later use\n",
    "    dist_pickle = {}\n",
    "    dist_pickle['mtx'] = mtx\n",
    "    dist_pickle['dist'] = dist\n",
    "    pickle.dump( dist_pickle, open(save_path2+'calibration1.p', 'wb') )\n",
    "    \n",
    "    #保存\n",
    "    \n",
    "    \n",
    "\n",
    "\n",
    "    \n",
    "def undistort(img, cal_dir=save_path2+'camera_cal/calibration1.p'):\n",
    "    #cv2.imwrite('camera_cal_old/test_cal.jpg', dst)\n",
    "    with open(cal_dir, mode='rb') as f:\n",
    "        file = pickle.load(f)\n",
    "    mtx = file['mtx']\n",
    "    dist = file['dist']\n",
    "    dst = cv2.undistort(img, mtx, dist, None, mtx)\n",
    "    \n",
    "    return dst"
   ]
  },
  {
   "cell_type": "code",
   "execution_count": 84,
   "metadata": {},
   "outputs": [
    {
     "name": "stdout",
     "output_type": "stream",
     "text": [
      "[[535.65613975   0.         127.87819863]\n",
      " [  0.         417.80059219  59.66333888]\n",
      " [  0.           0.           1.        ]]\n"
     ]
    }
   ],
   "source": [
    "undistort_img()"
   ]
  },
  {
   "cell_type": "code",
   "execution_count": 88,
   "metadata": {},
   "outputs": [],
   "source": [
    "def get_mtx(cal_dir=save_path2+'calibration1.p'):\n",
    "    #cv2.imwrite('camera_cal_old/test_cal.jpg', dst)\n",
    "    with open(cal_dir, mode='rb') as f:\n",
    "        file = pickle.load(f)\n",
    "    mtx = file['mtx']\n",
    "    \n",
    "    return mtx"
   ]
  },
  {
   "cell_type": "code",
   "execution_count": 89,
   "metadata": {},
   "outputs": [],
   "source": [
    "mtx=get_mtx()"
   ]
  },
  {
   "cell_type": "code",
   "execution_count": 90,
   "metadata": {},
   "outputs": [],
   "source": [
    "inv_mtx = np.linalg.inv(mtx)"
   ]
  },
  {
   "cell_type": "code",
   "execution_count": 92,
   "metadata": {},
   "outputs": [],
   "source": [
    "file_names_2 = []\n",
    "for file in os.listdir(save_path2):\n",
    "    # ファイルのみ、拡張子なしで取得\n",
    "    if os.path.isfile(os.path.join(save_path2, file)):\n",
    "        file_names_2.append(os.path.basename(file))"
   ]
  },
  {
   "cell_type": "code",
   "execution_count": 86,
   "metadata": {},
   "outputs": [],
   "source": [
    "depth_map_dir=\"../depth/\"\n",
    "\n",
    "i=0\n",
    "\n",
    "disp_map=np.load(depth_map_dir+ 'result.npy')"
   ]
  },
  {
   "cell_type": "code",
   "execution_count": 88,
   "metadata": {},
   "outputs": [
    {
     "data": {
      "text/plain": [
       "array([], dtype=float64)"
      ]
     },
     "execution_count": 88,
     "metadata": {},
     "output_type": "execute_result"
    }
   ],
   "source": [
    "disp_map"
   ]
  },
  {
   "cell_type": "code",
   "execution_count": 87,
   "metadata": {},
   "outputs": [
    {
     "ename": "IndexError",
     "evalue": "tuple index out of range",
     "output_type": "error",
     "traceback": [
      "\u001b[0;31m---------------------------------------------------------------------------\u001b[0m",
      "\u001b[0;31mIndexError\u001b[0m                                Traceback (most recent call last)",
      "\u001b[0;32m<ipython-input-87-cec3827dc251>\u001b[0m in \u001b[0;36m<module>\u001b[0;34m\u001b[0m\n\u001b[0;32m----> 1\u001b[0;31m \u001b[0mdisp_size\u001b[0m \u001b[0;34m=\u001b[0m \u001b[0;34m(\u001b[0m\u001b[0mdisp_map\u001b[0m\u001b[0;34m.\u001b[0m\u001b[0mshape\u001b[0m\u001b[0;34m[\u001b[0m\u001b[0;36m1\u001b[0m\u001b[0;34m]\u001b[0m\u001b[0;34m,\u001b[0m \u001b[0mdisp_map\u001b[0m\u001b[0;34m.\u001b[0m\u001b[0mshape\u001b[0m\u001b[0;34m[\u001b[0m\u001b[0;36m0\u001b[0m\u001b[0;34m]\u001b[0m\u001b[0;34m)\u001b[0m\u001b[0;34m\u001b[0m\u001b[0;34m\u001b[0m\u001b[0m\n\u001b[0m\u001b[1;32m      2\u001b[0m \u001b[0mprint\u001b[0m\u001b[0;34m(\u001b[0m\u001b[0mdisp_size\u001b[0m\u001b[0;34m)\u001b[0m\u001b[0;34m\u001b[0m\u001b[0;34m\u001b[0m\u001b[0m\n",
      "\u001b[0;31mIndexError\u001b[0m: tuple index out of range"
     ]
    }
   ],
   "source": [
    "disp_size = (disp_map.shape[1], disp_map.shape[0])\n",
    "print(disp_size)"
   ]
  },
  {
   "cell_type": "code",
   "execution_count": null,
   "metadata": {},
   "outputs": [],
   "source": [
    "# ここがうまくいっていない"
   ]
  },
  {
   "cell_type": "code",
   "execution_count": 95,
   "metadata": {},
   "outputs": [],
   "source": [
    "depth_map=1/disp_map"
   ]
  },
  {
   "cell_type": "code",
   "execution_count": 96,
   "metadata": {},
   "outputs": [
    {
     "ename": "TypeError",
     "evalue": "Invalid dimensions for image data",
     "output_type": "error",
     "traceback": [
      "\u001b[0;31m---------------------------------------------------------------------------\u001b[0m",
      "\u001b[0;31mTypeError\u001b[0m                                 Traceback (most recent call last)",
      "\u001b[0;32m<ipython-input-96-832f4f68a35d>\u001b[0m in \u001b[0;36m<module>\u001b[0;34m\u001b[0m\n\u001b[0;32m----> 1\u001b[0;31m \u001b[0mplt\u001b[0m\u001b[0;34m.\u001b[0m\u001b[0mimshow\u001b[0m\u001b[0;34m(\u001b[0m\u001b[0mdepth_map\u001b[0m\u001b[0;34m,\u001b[0m \u001b[0mcmap\u001b[0m\u001b[0;34m=\u001b[0m\u001b[0;34m'magma'\u001b[0m\u001b[0;34m)\u001b[0m\u001b[0;34m\u001b[0m\u001b[0;34m\u001b[0m\u001b[0m\n\u001b[0m\u001b[1;32m      2\u001b[0m \u001b[0mplt\u001b[0m\u001b[0;34m.\u001b[0m\u001b[0mtitle\u001b[0m\u001b[0;34m(\u001b[0m\u001b[0;34m\"Depth prediction\"\u001b[0m\u001b[0;34m,\u001b[0m \u001b[0mfontsize\u001b[0m\u001b[0;34m=\u001b[0m\u001b[0;36m22\u001b[0m\u001b[0;34m)\u001b[0m\u001b[0;34m\u001b[0m\u001b[0;34m\u001b[0m\u001b[0m\n\u001b[1;32m      3\u001b[0m \u001b[0mplt\u001b[0m\u001b[0;34m.\u001b[0m\u001b[0maxis\u001b[0m\u001b[0;34m(\u001b[0m\u001b[0;34m'off'\u001b[0m\u001b[0;34m)\u001b[0m\u001b[0;34m\u001b[0m\u001b[0;34m\u001b[0m\u001b[0m\n\u001b[1;32m      4\u001b[0m \u001b[0mplt\u001b[0m\u001b[0;34m.\u001b[0m\u001b[0mcolorbar\u001b[0m\u001b[0;34m(\u001b[0m\u001b[0;34m)\u001b[0m\u001b[0;34m\u001b[0m\u001b[0;34m\u001b[0m\u001b[0m\n",
      "\u001b[0;32m/anaconda3/lib/python3.7/site-packages/matplotlib/pyplot.py\u001b[0m in \u001b[0;36mimshow\u001b[0;34m(X, cmap, norm, aspect, interpolation, alpha, vmin, vmax, origin, extent, shape, filternorm, filterrad, imlim, resample, url, data, **kwargs)\u001b[0m\n\u001b[1;32m   2697\u001b[0m         \u001b[0mfilternorm\u001b[0m\u001b[0;34m=\u001b[0m\u001b[0mfilternorm\u001b[0m\u001b[0;34m,\u001b[0m \u001b[0mfilterrad\u001b[0m\u001b[0;34m=\u001b[0m\u001b[0mfilterrad\u001b[0m\u001b[0;34m,\u001b[0m \u001b[0mimlim\u001b[0m\u001b[0;34m=\u001b[0m\u001b[0mimlim\u001b[0m\u001b[0;34m,\u001b[0m\u001b[0;34m\u001b[0m\u001b[0;34m\u001b[0m\u001b[0m\n\u001b[1;32m   2698\u001b[0m         resample=resample, url=url, **({\"data\": data} if data is not\n\u001b[0;32m-> 2699\u001b[0;31m         None else {}), **kwargs)\n\u001b[0m\u001b[1;32m   2700\u001b[0m     \u001b[0msci\u001b[0m\u001b[0;34m(\u001b[0m\u001b[0m__ret\u001b[0m\u001b[0;34m)\u001b[0m\u001b[0;34m\u001b[0m\u001b[0;34m\u001b[0m\u001b[0m\n\u001b[1;32m   2701\u001b[0m     \u001b[0;32mreturn\u001b[0m \u001b[0m__ret\u001b[0m\u001b[0;34m\u001b[0m\u001b[0;34m\u001b[0m\u001b[0m\n",
      "\u001b[0;32m/anaconda3/lib/python3.7/site-packages/matplotlib/__init__.py\u001b[0m in \u001b[0;36minner\u001b[0;34m(ax, data, *args, **kwargs)\u001b[0m\n\u001b[1;32m   1808\u001b[0m                         \u001b[0;34m\"the Matplotlib list!)\"\u001b[0m \u001b[0;34m%\u001b[0m \u001b[0;34m(\u001b[0m\u001b[0mlabel_namer\u001b[0m\u001b[0;34m,\u001b[0m \u001b[0mfunc\u001b[0m\u001b[0;34m.\u001b[0m\u001b[0m__name__\u001b[0m\u001b[0;34m)\u001b[0m\u001b[0;34m,\u001b[0m\u001b[0;34m\u001b[0m\u001b[0;34m\u001b[0m\u001b[0m\n\u001b[1;32m   1809\u001b[0m                         RuntimeWarning, stacklevel=2)\n\u001b[0;32m-> 1810\u001b[0;31m             \u001b[0;32mreturn\u001b[0m \u001b[0mfunc\u001b[0m\u001b[0;34m(\u001b[0m\u001b[0max\u001b[0m\u001b[0;34m,\u001b[0m \u001b[0;34m*\u001b[0m\u001b[0margs\u001b[0m\u001b[0;34m,\u001b[0m \u001b[0;34m**\u001b[0m\u001b[0mkwargs\u001b[0m\u001b[0;34m)\u001b[0m\u001b[0;34m\u001b[0m\u001b[0;34m\u001b[0m\u001b[0m\n\u001b[0m\u001b[1;32m   1811\u001b[0m \u001b[0;34m\u001b[0m\u001b[0m\n\u001b[1;32m   1812\u001b[0m         inner.__doc__ = _add_data_doc(inner.__doc__,\n",
      "\u001b[0;32m/anaconda3/lib/python3.7/site-packages/matplotlib/axes/_axes.py\u001b[0m in \u001b[0;36mimshow\u001b[0;34m(self, X, cmap, norm, aspect, interpolation, alpha, vmin, vmax, origin, extent, shape, filternorm, filterrad, imlim, resample, url, **kwargs)\u001b[0m\n\u001b[1;32m   5492\u001b[0m                               resample=resample, **kwargs)\n\u001b[1;32m   5493\u001b[0m \u001b[0;34m\u001b[0m\u001b[0m\n\u001b[0;32m-> 5494\u001b[0;31m         \u001b[0mim\u001b[0m\u001b[0;34m.\u001b[0m\u001b[0mset_data\u001b[0m\u001b[0;34m(\u001b[0m\u001b[0mX\u001b[0m\u001b[0;34m)\u001b[0m\u001b[0;34m\u001b[0m\u001b[0;34m\u001b[0m\u001b[0m\n\u001b[0m\u001b[1;32m   5495\u001b[0m         \u001b[0mim\u001b[0m\u001b[0;34m.\u001b[0m\u001b[0mset_alpha\u001b[0m\u001b[0;34m(\u001b[0m\u001b[0malpha\u001b[0m\u001b[0;34m)\u001b[0m\u001b[0;34m\u001b[0m\u001b[0;34m\u001b[0m\u001b[0m\n\u001b[1;32m   5496\u001b[0m         \u001b[0;32mif\u001b[0m \u001b[0mim\u001b[0m\u001b[0;34m.\u001b[0m\u001b[0mget_clip_path\u001b[0m\u001b[0;34m(\u001b[0m\u001b[0;34m)\u001b[0m \u001b[0;32mis\u001b[0m \u001b[0;32mNone\u001b[0m\u001b[0;34m:\u001b[0m\u001b[0;34m\u001b[0m\u001b[0;34m\u001b[0m\u001b[0m\n",
      "\u001b[0;32m/anaconda3/lib/python3.7/site-packages/matplotlib/image.py\u001b[0m in \u001b[0;36mset_data\u001b[0;34m(self, A)\u001b[0m\n\u001b[1;32m    636\u001b[0m         if not (self._A.ndim == 2\n\u001b[1;32m    637\u001b[0m                 or self._A.ndim == 3 and self._A.shape[-1] in [3, 4]):\n\u001b[0;32m--> 638\u001b[0;31m             \u001b[0;32mraise\u001b[0m \u001b[0mTypeError\u001b[0m\u001b[0;34m(\u001b[0m\u001b[0;34m\"Invalid dimensions for image data\"\u001b[0m\u001b[0;34m)\u001b[0m\u001b[0;34m\u001b[0m\u001b[0;34m\u001b[0m\u001b[0m\n\u001b[0m\u001b[1;32m    639\u001b[0m \u001b[0;34m\u001b[0m\u001b[0m\n\u001b[1;32m    640\u001b[0m         \u001b[0;32mif\u001b[0m \u001b[0mself\u001b[0m\u001b[0;34m.\u001b[0m\u001b[0m_A\u001b[0m\u001b[0;34m.\u001b[0m\u001b[0mndim\u001b[0m \u001b[0;34m==\u001b[0m \u001b[0;36m3\u001b[0m\u001b[0;34m:\u001b[0m\u001b[0;34m\u001b[0m\u001b[0;34m\u001b[0m\u001b[0m\n",
      "\u001b[0;31mTypeError\u001b[0m: Invalid dimensions for image data"
     ]
    },
    {
     "data": {
      "image/png": "[encoded data removed]",
      "text/plain": [
       "<Figure size 432x288 with 1 Axes>"
      ]
     },
     "metadata": {
      "needs_background": "light"
     },
     "output_type": "display_data"
    }
   ],
   "source": [
    "plt.imshow(depth_map, cmap='magma')\n",
    "plt.title(\"Depth prediction\", fontsize=22)\n",
    "plt.axis('off')\n",
    "plt.colorbar()"
   ]
  },
  {
   "cell_type": "code",
   "execution_count": 39,
   "metadata": {},
   "outputs": [],
   "source": [
    "trapezoid=trapezoids_for_dfv[i]\n",
    "\n",
    "x_top_left=trapezoid[0]\n",
    "x_top_right=trapezoid[1]\n",
    "x_bottom_left=trapezoid[2]\n",
    "x_bottom_right=trapezoid[3]\n",
    "y_top=trapezoid[4]\n",
    "y_bottom=trapezoid[5]"
   ]
  },
  {
   "cell_type": "code",
   "execution_count": 40,
   "metadata": {},
   "outputs": [],
   "source": [
    "z1=depth_map[y_bottom][x_bottom_right]"
   ]
  },
  {
   "cell_type": "code",
   "execution_count": 41,
   "metadata": {},
   "outputs": [],
   "source": [
    "z2=depth_map[y_bottom][x_bottom_left]"
   ]
  },
  {
   "cell_type": "code",
   "execution_count": 42,
   "metadata": {},
   "outputs": [],
   "source": [
    "z3=depth_map[y_top][x_top_left]"
   ]
  },
  {
   "cell_type": "code",
   "execution_count": 43,
   "metadata": {},
   "outputs": [],
   "source": [
    "z4=depth_map[y_top][x_top_right]"
   ]
  },
  {
   "cell_type": "code",
   "execution_count": 44,
   "metadata": {},
   "outputs": [],
   "source": [
    "point1=[x_bottom_right,y_bottom,1]"
   ]
  },
  {
   "cell_type": "code",
   "execution_count": 45,
   "metadata": {},
   "outputs": [],
   "source": [
    "point2=[x_bottom_left,y_bottom,1]"
   ]
  },
  {
   "cell_type": "code",
   "execution_count": 46,
   "metadata": {},
   "outputs": [],
   "source": [
    "point3=[x_top_left,y_top,1]"
   ]
  },
  {
   "cell_type": "code",
   "execution_count": 47,
   "metadata": {},
   "outputs": [],
   "source": [
    "point4=[x_top_right,y_top,1]"
   ]
  },
  {
   "cell_type": "code",
   "execution_count": 48,
   "metadata": {},
   "outputs": [],
   "source": [
    "newpt1=z1*np.dot(inv_mtx,point1)\n",
    "newpt2=z2*np.dot(inv_mtx,point2)\n",
    "newpt3=z3*np.dot(inv_mtx,point3)\n",
    "newpt4=z4*np.dot(inv_mtx,point4)"
   ]
  },
  {
   "cell_type": "code",
   "execution_count": 49,
   "metadata": {},
   "outputs": [],
   "source": [
    "left_length=np.linalg.norm(newpt2-newpt3, ord=2)"
   ]
  },
  {
   "cell_type": "code",
   "execution_count": 50,
   "metadata": {},
   "outputs": [],
   "source": [
    "right_length=np.linalg.norm(newpt1-newpt4, ord=2)"
   ]
  },
  {
   "cell_type": "code",
   "execution_count": 51,
   "metadata": {},
   "outputs": [],
   "source": [
    "width1=np.linalg.norm(newpt2-newpt1, ord=2)"
   ]
  },
  {
   "cell_type": "code",
   "execution_count": 52,
   "metadata": {},
   "outputs": [],
   "source": [
    "width2=np.linalg.norm(newpt4-newpt3, ord=2)"
   ]
  },
  {
   "cell_type": "code",
   "execution_count": 53,
   "metadata": {},
   "outputs": [
    {
     "name": "stdout",
     "output_type": "stream",
     "text": [
      "20.875798293329307\n"
     ]
    }
   ],
   "source": [
    "print(left_length)"
   ]
  },
  {
   "cell_type": "code",
   "execution_count": 54,
   "metadata": {},
   "outputs": [
    {
     "name": "stdout",
     "output_type": "stream",
     "text": [
      "20.758779021904544\n"
     ]
    }
   ],
   "source": [
    "print(right_length)"
   ]
  },
  {
   "cell_type": "code",
   "execution_count": 55,
   "metadata": {},
   "outputs": [
    {
     "name": "stdout",
     "output_type": "stream",
     "text": [
      "4.061194513184261\n"
     ]
    }
   ],
   "source": [
    "print(width1)"
   ]
  },
  {
   "cell_type": "code",
   "execution_count": 56,
   "metadata": {},
   "outputs": [
    {
     "name": "stdout",
     "output_type": "stream",
     "text": [
      "3.9456382454462324\n"
     ]
    }
   ],
   "source": [
    "print(width2)"
   ]
  },
  {
   "cell_type": "code",
   "execution_count": 57,
   "metadata": {},
   "outputs": [],
   "source": [
    "def decide_x_split(i=i,trapezoids_for_dfv=trapezoids_for_dfv,width1=width1,width2=width2,bonnet=bonnet):\n",
    "    trapezoid=trapezoids_for_dfv[i]\n",
    "\n",
    "    x_top_left=trapezoid[0]\n",
    "    x_top_right=trapezoid[1]\n",
    "    x_bottom_left=trapezoid[2]\n",
    "    x_bottom_right=trapezoid[3]\n",
    "    y_top=trapezoid[4]\n",
    "    y_bottom=trapezoid[5]\n",
    "    \n",
    "    temp=(width1+width2)/2\n",
    "    result=temp//0.5\n",
    "    return result\n"
   ]
  },
  {
   "cell_type": "code",
   "execution_count": 58,
   "metadata": {},
   "outputs": [],
   "source": [
    "def decide_y_split(i=i,trapezoids_for_dfv=trapezoids_for_dfv,left_length=left_length,right_length=right_length,bonnet=bonnet):\n",
    "    trapezoid=trapezoids_for_dfv[i]\n",
    "\n",
    "    x_top_left=trapezoid[0]\n",
    "    x_top_right=trapezoid[1]\n",
    "    x_bottom_left=trapezoid[2]\n",
    "    x_bottom_right=trapezoid[3]\n",
    "    y_top=trapezoid[4]\n",
    "    y_bottom=trapezoid[5]\n",
    "    \n",
    "    temp=(left_length+right_length)/2\n",
    "    result=int(temp/0.5*(bonnet-y_top)/(y_bottom-y_top))\n",
    "    \n",
    "    return result\n",
    "\n",
    "\n",
    "\n"
   ]
  },
  {
   "cell_type": "code",
   "execution_count": 59,
   "metadata": {},
   "outputs": [],
   "source": [
    "#x_split=decide_x_split()\n",
    "#y_split=decide_y_split()"
   ]
  },
  {
   "cell_type": "markdown",
   "metadata": {},
   "source": [
    "## 分割数決定コードの精度が低いため現在は分割数は決め打ちで対応"
   ]
  },
  {
   "cell_type": "code",
   "execution_count": 60,
   "metadata": {},
   "outputs": [],
   "source": [
    "x_split =10\n",
    "y_split =10"
   ]
  },
  {
   "cell_type": "code",
   "execution_count": null,
   "metadata": {},
   "outputs": [],
   "source": []
  },
  {
   "cell_type": "code",
   "execution_count": null,
   "metadata": {},
   "outputs": [],
   "source": []
  }
 ],
 "metadata": {
  "kernelspec": {
   "display_name": "Python 3",
   "language": "python",
   "name": "python3"
  },
  "language_info": {
   "codemirror_mode": {
    "name": "ipython",
    "version": 3
   },
   "file_extension": ".py",
   "mimetype": "text/x-python",
   "name": "python",
   "nbconvert_exporter": "python",
   "pygments_lexer": "ipython3",
   "version": "3.7.3"
  }
 },
 "nbformat": 4,
 "nbformat_minor": 2
}
