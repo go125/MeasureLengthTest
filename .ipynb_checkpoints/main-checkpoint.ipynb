{
 "cells": [
  {
   "cell_type": "code",
   "execution_count": 1,
   "metadata": {},
   "outputs": [],
   "source": [
    "# 最初にトリミング"
   ]
  },
  {
   "cell_type": "markdown",
   "metadata": {},
   "source": [
    "# ひび割れ率計算メインコード"
   ]
  },
  {
   "cell_type": "code",
   "execution_count": 23,
   "metadata": {},
   "outputs": [],
   "source": [
    "import numpy as np\n",
    "from xml.etree import ElementTree\n",
    "import cv2\n",
    "from PIL import Image\n",
    "import tensorflow as tf\n",
    "import csv\n",
    "import argparse\n",
    "import os"
   ]
  },
  {
   "cell_type": "code",
   "execution_count": 46,
   "metadata": {},
   "outputs": [],
   "source": [
    "image_path = '../img'\n",
    "image_path = '/Users/gosato/Desktop/画像/緑区ルート2/img'\n",
    "#xmls_path = \"/Users/gosato/Desktop/画像/annotations/xmls/緑区ルート2\"\n",
    "model_path = \"../model/bonnet_graph.pb\"\n",
    "#csv_name = \"緑区ルート2.csv\"\n",
    "option = \"use_const\""
   ]
  },
  {
   "cell_type": "code",
   "execution_count": 48,
   "metadata": {},
   "outputs": [],
   "source": [
    "file_names=[]\n",
    "for file in os.listdir(image_path):\n",
    "    # ファイルのみ、拡張子なしで取得\n",
    "    if os.path.isfile(os.path.join(image_path, file)):\n",
    "        file_names.append(os.path.basename(file))"
   ]
  },
  {
   "cell_type": "code",
   "execution_count": 37,
   "metadata": {},
   "outputs": [],
   "source": [
    "def decide_trapezoids(left_lines, right_lines,seg_maps, bonnet,option):\n",
    "    trapezoids = []\n",
    "    if option==\"use_const\":\n",
    "        for i in range(len(file_names)):\n",
    "            trapezoid=[50,529,20,579,300,599]\n",
    "            trapezoids.append(trapezoid)\n",
    "    return (trapezoids)"
   ]
  },
  {
   "cell_type": "code",
   "execution_count": 38,
   "metadata": {},
   "outputs": [],
   "source": [
    "def search_point_grid(trapezoid, x_split, y_split, search_x, search_y):\n",
    "    x_top_left = trapezoid[0]\n",
    "    x_top_right = trapezoid[1]\n",
    "    x_bottom_left = trapezoid[2]\n",
    "    x_bottom_right = trapezoid[3]\n",
    "    y_top = trapezoid[4]\n",
    "    y_bottom = trapezoid[5]\n",
    "\n",
    "    # (search_x,search_y)が台形のどの分割グリッドにあるか求める\n",
    "    # 分割グリッドは左上から((0,0),(1,0)...(x_split-1,0)),(0,1),(1,1),...,(x_split-1,1)),...,((0,y_split-1),(1,y_split-1),...,(x_split-1,y_split-1))と並ぶ\n",
    "\n",
    "    # y_resultとして許される最大値はy_split-1\n",
    "    result_y_max = y_split - 1\n",
    "    # グリッドのyの値を初期値0に設定\n",
    "    result_y = 0\n",
    "    while result_y <= result_y_max:\n",
    "        # 現在のy_resultについてグリッドのy座標を決定する\n",
    "        grid_top_y = y_top + (y_bottom - y_top) * ((result_y) / y_split)\n",
    "        grid_bottom_y = y_top + (y_bottom - y_top) * ((result_y + 1) / y_split)\n",
    "        if grid_top_y <= search_y < grid_bottom_y:\n",
    "            break\n",
    "        else:\n",
    "            result_y += 1\n",
    "        if result_y > result_y_max:\n",
    "            # print(\"y is out of the trapezoid.\")\n",
    "            return (None)\n",
    "        else:\n",
    "            pass\n",
    "\n",
    "    # search_yにおける台形の左端,右端のx座標を求める\n",
    "    x_left = x_top_left + (x_bottom_left - x_top_left) * (search_y - y_top) / (y_bottom - y_top)\n",
    "    x_right = x_top_right + (x_bottom_right - x_top_right) * (search_y - y_top) / (y_bottom - y_top)\n",
    "    result_x = 0\n",
    "    result_x_max = x_split - 1\n",
    "    while result_x <= result_x_max:\n",
    "        grid_left_x = x_left + (x_right - x_left) * ((result_x) / x_split)\n",
    "        grid_right_x = x_left + (x_right - x_left) * ((result_x + 1) / x_split)\n",
    "        if grid_left_x <= search_x < grid_right_x:\n",
    "            break\n",
    "        else:\n",
    "            result_x += 1\n",
    "        if result_x > result_x_max:\n",
    "            # print(\"x is out of the trapezoid.\")\n",
    "            return (None)\n",
    "        else:\n",
    "            pass\n",
    "    result_grid = (result_x, result_y)\n",
    "    return result_grid"
   ]
  },
  {
   "cell_type": "code",
   "execution_count": 50,
   "metadata": {},
   "outputs": [],
   "source": [
    "def crack_ratio_calculate(trapezoid, boundingboxes, x_split, y_split):\n",
    "    result_D00_D10 = []\n",
    "    # 重率0.6\n",
    "    result_D20 = []\n",
    "    # 重率1\n",
    "\n",
    "    for i in range(0, len(boundingboxes)):\n",
    "\n",
    "        xmin = boundingboxes[i][0]\n",
    "        xmax = boundingboxes[i][1]\n",
    "        ymin = boundingboxes[i][2]\n",
    "        ymax = boundingboxes[i][3]\n",
    "        class_of_damage = boundingboxes[i][4]\n",
    "\n",
    "        x_temp = xmin\n",
    "        y_temp = ymin\n",
    "\n",
    "        result_D00_D10_temp = []\n",
    "        result_D20_temp = []\n",
    "\n",
    "        if class_of_damage == \"D00\":\n",
    "\n",
    "            while y_temp <= ymax:\n",
    "                while x_temp <= xmax:\n",
    "                    grid_temp = search_point_grid(trapezoid, x_split, y_split, x_temp, y_temp)\n",
    "                    if grid_temp == None:\n",
    "                        pass\n",
    "                    elif grid_temp in result_D00_D10_temp:\n",
    "                        pass\n",
    "                    else:\n",
    "                        result_D00_D10_temp.append(grid_temp)\n",
    "                    x_temp += 1\n",
    "                y_temp += 1\n",
    "                x_temp = xmin\n",
    "        elif class_of_damage == \"D10\":\n",
    "\n",
    "            while y_temp <= ymax:\n",
    "                while x_temp <= xmax:\n",
    "                    grid_temp = search_point_grid(trapezoid, x_split, y_split, x_temp, y_temp)\n",
    "                    if grid_temp == None:\n",
    "                        pass\n",
    "                    elif grid_temp in result_D00_D10_temp:\n",
    "                        pass\n",
    "                    else:\n",
    "                        result_D00_D10_temp.append(grid_temp)\n",
    "                    x_temp += 1\n",
    "                y_temp += 1\n",
    "                x_temp = xmin\n",
    "        elif class_of_damage == \"D20\":\n",
    "\n",
    "            while y_temp <= ymax:\n",
    "                while x_temp <= xmax:\n",
    "                    grid_temp = search_point_grid(trapezoid, x_split, y_split, x_temp, y_temp)\n",
    "                    if grid_temp == None:\n",
    "                        pass\n",
    "                    elif grid_temp in result_D20_temp:\n",
    "                        pass\n",
    "                    else:\n",
    "                        result_D20_temp.append(grid_temp)\n",
    "                    x_temp += 1\n",
    "                y_temp += 1\n",
    "                x_temp = xmin\n",
    "        else:\n",
    "            pass\n",
    "\n",
    "        for j in range(0, len(result_D00_D10_temp)):\n",
    "            grid_temp_2 = result_D00_D10_temp[j]\n",
    "\n",
    "            if grid_temp_2 in result_D20:\n",
    "                pass\n",
    "            elif grid_temp_2 in result_D00_D10:\n",
    "                result_D20.append(grid_temp_2)\n",
    "                result_D00_D10.remove(grid_temp_2)\n",
    "            else:\n",
    "                result_D00_D10.append(grid_temp_2)\n",
    "\n",
    "        for k in range(0, len(result_D20_temp)):\n",
    "            grid_temp_3 = result_D20_temp[k]\n",
    "            if grid_temp_3 in result_D20:\n",
    "                pass\n",
    "            elif grid_temp_3 in result_D00_D10:\n",
    "                result_D20.append(grid_temp_3)\n",
    "                result_D00_D10.remove(grid_temp_3)\n",
    "            else:\n",
    "                result_D20.append(grid_temp_3)\n",
    "\n",
    "    # print(\"重率0.6のグリッドは\"+str(result_D00_D10)+\"の\"+str(len(result_D00_D10))+\"箇所です\")\n",
    "    # print(\"重率1のグリッドは\"+str(result_D20)+\"の\"+str(len(result_D20))+\"箇所です\")\n",
    "    crack_ratio = (0.6 * len(result_D00_D10) + len(result_D20)) / (x_split * y_split)\n",
    "    return crack_ratio"
   ]
  },
  {
   "cell_type": "code",
   "execution_count": 26,
   "metadata": {},
   "outputs": [],
   "source": [
    "def boundingboxes(i):\n",
    "    #空のリストを出力\n",
    "    img = cv2.imread(image_path + \"/\" + file_names[i])\n",
    "    #infile_xml = open(xmls_path + \"/\" + file_names[i].split('.')[0] + '.xml')\n",
    "\n",
    "    tree = ElementTree.parse(infile_xml)\n",
    "    root = tree.getroot()\n",
    "\n",
    "    boundingboxes = []\n",
    "\n",
    "    #for obj in root.iter('object'):\n",
    "        #cls_name = obj.find('name').text\n",
    "        #xmlbox = obj.find('bndbox')\n",
    "        #xmin = int(int(xmlbox.find('xmin').text))\n",
    "        #xmax = int(int(xmlbox.find('xmax').text))\n",
    "        #ymin = int(int(xmlbox.find('ymin').text))\n",
    "        #ymax = int(int(xmlbox.find('ymax').text))\n",
    "        #boundingboxes.append([xmin, xmax, ymin, ymax, cls_name])\n",
    "\n",
    "    return boundingboxes"
   ]
  },
  {
   "cell_type": "code",
   "execution_count": 27,
   "metadata": {},
   "outputs": [],
   "source": [
    "def crack_ratio(trapezoids, i, x_split, y_split):\n",
    "    temp = boundingboxes(i)\n",
    "    trapezoid = trapezoids[i]\n",
    "\n",
    "    crack_ratio = crack_ratio_calculate(trapezoid, temp, x_split, y_split)\n",
    "\n",
    "    return crack_ratio\n",
    "\n",
    "def save_crack_ratio():\n",
    "    result = []\n",
    "    for i in range(len(file_names)):\n",
    "        result.append(crack_ratio(trapezoids, i, x_split, y_split))\n",
    "    return result\n",
    "\n",
    "def make_csv(crack_ratios):\n",
    "    with open(csv_name, 'a') as f:\n",
    "        writer = csv.writer(f)\n",
    "        writer.writerow([\"file_name\", \"crack_ratio\"])\n",
    "        for i in range(len(file_names)):\n",
    "            file_name = file_names[i]\n",
    "            crack_ratio = crack_ratios[i]\n",
    "            writer.writerow([file_name, crack_ratio])\n"
   ]
  },
  {
   "cell_type": "code",
   "execution_count": null,
   "metadata": {},
   "outputs": [],
   "source": [
    "# 台形の頂点を決定（改善の余地あり）\n",
    "trapezoids = decide_trapezoids(left_lines, right_lines,seg_maps, bonnet=bonnet,option=option)"
   ]
  },
  {
   "cell_type": "markdown",
   "metadata": {},
   "source": [
    "# Depth from Videosを用いた分割数の決定"
   ]
  },
  {
   "cell_type": "markdown",
   "metadata": {},
   "source": [
    "## この部分のコードはひび割れ率計算用には未実装"
   ]
  },
  {
   "cell_type": "code",
   "execution_count": 25,
   "metadata": {},
   "outputs": [],
   "source": [
    "def decide_trapezoids_for_dfv(left_lines,right_lines):\n",
    "    trapezoids=[]\n",
    "    for i in range(len(file_names)):\n",
    "        x1, y1, x2, y2 = left_lines[i][0]\n",
    "        x3, y3, x4, y4 = right_lines[i][0]\n",
    "        if y2<=y3:\n",
    "            if y1<=y4:\n",
    "                y_top=y3\n",
    "                y_bottom=y1\n",
    "                x_top_left=int(x1+(x2-x1)*((y3-y1)/(y2-y1)))\n",
    "                x_top_right=x3\n",
    "                x_bottom_left=x1\n",
    "                x_bottom_right=int(x3+(x4-x3)*((y1-y3)/(y4-y3)))\n",
    "            else:\n",
    "                y_top=y3\n",
    "                y_bottom=y4\n",
    "                x_top_left=int(x1+(x2-x1)*((y3-y1)/(y2-y1)))\n",
    "                x_top_right=x3\n",
    "                x_bottom_left=int(x1+(x2-x1)*((y4-y1)/(y2-y1)))\n",
    "                x_bottom_right=x4\n",
    "        else:\n",
    "            if y1<=y4:\n",
    "                y_top=y2\n",
    "                y_bottom=y1\n",
    "                x_top_left=x2\n",
    "                x_top_right=int(x3+(x4-x3)*((y2-y3)/(y4-y3)))\n",
    "                x_bottom_left=x1\n",
    "                x_bottom_right=int(x3+(x4-x3)*((y1-y3)/(y4-y3)))\n",
    "            else:\n",
    "                y_top=y2\n",
    "                y_bottom=y4\n",
    "                x_top_left=x2\n",
    "                x_top_right=int(x3+(x4-x3)*((y2-y3)/(y4-y3)))\n",
    "                x_bottom_left=int(x1+(x2-x1)*((y4-y1)/(y2-y1)))\n",
    "                x_bottom_right=x4\n",
    "        if (x_top_right-x_top_left<=100):\n",
    "            #print(i)\n",
    "            while (x_top_right-x_top_left<=100):\n",
    "                #print(i)\n",
    "                y_top+=1\n",
    "                x_top_left=int(x1+(x2-x1)*((y_top-y1)/(y2-y1)))\n",
    "                x_top_right=int(x3+(x4-x3)*((y_top-y3)/(y4-y3)))\n",
    "                \n",
    "                #台形上部の幅は100より大きい\n",
    "                #要改定\n",
    "                \n",
    "        \n",
    "                \n",
    "        trapezoids.append([x_top_left,x_top_right,x_bottom_left,x_bottom_right,y_top,y_bottom])\n",
    "    return(trapezoids)"
   ]
  },
  {
   "cell_type": "code",
   "execution_count": 26,
   "metadata": {},
   "outputs": [],
   "source": [
    "trapezoids_for_dfv=decide_trapezoids_for_dfv(left_lines,right_lines)"
   ]
  },
  {
   "cell_type": "code",
   "execution_count": 27,
   "metadata": {},
   "outputs": [],
   "source": [
    "import numpy as np\n",
    "import pandas as pd\n",
    "import cv2\n",
    "import os\n",
    "import glob\n",
    "import matplotlib.pyplot as plt\n",
    "import pickle\n",
    "\n",
    "%matplotlib inline"
   ]
  },
  {
   "cell_type": "code",
   "execution_count": 28,
   "metadata": {},
   "outputs": [],
   "source": [
    "#キャリブレーション用画像の位置\n",
    "base_path_2 = '/Users/gosato/Desktop/sekilab_3A2/Curved-Lane-Lines/'"
   ]
  },
  {
   "cell_type": "code",
   "execution_count": 29,
   "metadata": {},
   "outputs": [],
   "source": [
    "def undistort_img():\n",
    "    # Prepare object points 0,0,0 ... 8,5,0\n",
    "    obj_pts = np.zeros((10*7,3), np.float32)\n",
    "    #obj_pts[:,:2] = np.mgrid[0:7, 0:10].T.reshape(-1,2)\n",
    "    #これを物理単位にしないとダメそう\n",
    "    \n",
    "    obj_pts[:,:2] = np.mgrid[0:7, 0:10].T.reshape(-1,2)*0.022\n",
    "    #物理単位(m)に変更\n",
    "    \n",
    "\n",
    "    # Stores all object points & img points from all images\n",
    "    objpoints = []\n",
    "    imgpoints = []\n",
    "\n",
    "    \n",
    "    # Get directory for all calibration images\n",
    "    \n",
    "    \n",
    "    #このフォルダ内のたくさんのチェスボード画像がキャリブレーションに使われる\n",
    "    \n",
    "    \n",
    "    \n",
    "    images = glob.glob(base_path_2+'camera_cal/*.jpg')\n",
    "    \n",
    "    #ここを絶対コードにすれば良い\n",
    "    \n",
    "    #print(images)\n",
    "\n",
    "    for indx, fname in enumerate(images):\n",
    "        img = cv2.imread(fname)\n",
    "        \n",
    "        img=cv2.resize(img,(600,600))\n",
    "        \n",
    "        gray = cv2.cvtColor(img, cv2.COLOR_BGR2GRAY)\n",
    "\n",
    "        ret, corners = cv2.findChessboardCorners(gray, (7,10), None)\n",
    "\n",
    "        if ret == True:\n",
    "            objpoints.append(obj_pts)\n",
    "            imgpoints.append(corners)\n",
    "    # Test undistortion on img\n",
    "    #img_size = (img.shape[1], img.shape[0])\n",
    "    img_size = (600,600)\n",
    "\n",
    "    #print(objpoints)\n",
    "    # Calibrate camera\n",
    "    ret, mtx, dist, rvecs, tvecs = cv2.calibrateCamera(objpoints, imgpoints, img_size, None,None)\n",
    "    \n",
    "    print(mtx)\n",
    "\n",
    "    dst = cv2.undistort(img, mtx, dist, None, mtx)\n",
    "    # Save camera calibration for later use\n",
    "    dist_pickle = {}\n",
    "    dist_pickle['mtx'] = mtx\n",
    "    dist_pickle['dist'] = dist\n",
    "    pickle.dump( dist_pickle, open(base_path_2+'camera_cal/calibration1.p', 'wb') )\n",
    "    \n",
    "    #保存\n",
    "    \n",
    "    \n",
    "\n",
    "\n",
    "    \n",
    "def undistort(img, cal_dir=base_path_2+'camera_cal/calibration1.p'):\n",
    "    #cv2.imwrite('camera_cal_old/test_cal.jpg', dst)\n",
    "    with open(cal_dir, mode='rb') as f:\n",
    "        file = pickle.load(f)\n",
    "    mtx = file['mtx']\n",
    "    dist = file['dist']\n",
    "    dst = cv2.undistort(img, mtx, dist, None, mtx)\n",
    "    \n",
    "    return dst"
   ]
  },
  {
   "cell_type": "code",
   "execution_count": 30,
   "metadata": {},
   "outputs": [
    {
     "name": "stdout",
     "output_type": "stream",
     "text": [
      "[[620.43194224   0.         288.16114029]\n",
      " [  0.         620.68096153 302.38083556]\n",
      " [  0.           0.           1.        ]]\n"
     ]
    }
   ],
   "source": [
    "undistort_img()"
   ]
  },
  {
   "cell_type": "code",
   "execution_count": 31,
   "metadata": {},
   "outputs": [],
   "source": [
    "def get_mtx(cal_dir=base_path_2+'camera_cal/calibration1.p'):\n",
    "    #cv2.imwrite('camera_cal_old/test_cal.jpg', dst)\n",
    "    with open(cal_dir, mode='rb') as f:\n",
    "        file = pickle.load(f)\n",
    "    mtx = file['mtx']\n",
    "    \n",
    "    return mtx"
   ]
  },
  {
   "cell_type": "code",
   "execution_count": 32,
   "metadata": {},
   "outputs": [],
   "source": [
    "mtx=get_mtx()"
   ]
  },
  {
   "cell_type": "code",
   "execution_count": 33,
   "metadata": {},
   "outputs": [],
   "source": [
    "inv_mtx = np.linalg.inv(mtx)"
   ]
  },
  {
   "cell_type": "code",
   "execution_count": 34,
   "metadata": {},
   "outputs": [],
   "source": [
    "file_names_2 = []\n",
    "files = open(base_path + \"\" + dataset + \"/\" + dataset +'.txt' , 'r')\n",
    "\n",
    "\n",
    "\n",
    "for file in files:\n",
    "    file = file.rstrip('.jpg\\n')\n",
    "    file_names_2.append(file)"
   ]
  },
  {
   "cell_type": "code",
   "execution_count": 35,
   "metadata": {},
   "outputs": [],
   "source": [
    "#depth_map_dir=\"/Users/gosato/Desktop/sekilab_3A2/models/research/struct2depth/mihama5_output/\"\n",
    "#depth_map_dir=\"/Users/gosato/Desktop/sekilab_3A2/models/research/struct2depth/midori1_output/\"\n",
    "depth_map_dir=\"/Users/gosato/Desktop/sekilab_3A2/models/research/struct2depth/midori2_output/\"\n",
    "\n",
    "#この部分は今後自動化\n",
    "\n",
    "i=57\n",
    "\n",
    "disp_map=np.load(depth_map_dir+file_names_2[i] + '.npy')"
   ]
  },
  {
   "cell_type": "code",
   "execution_count": 36,
   "metadata": {},
   "outputs": [],
   "source": [
    "a = cv2.resize(disp_map, (600,bonnet))"
   ]
  },
  {
   "cell_type": "code",
   "execution_count": 37,
   "metadata": {},
   "outputs": [],
   "source": [
    "depth_map=1/a"
   ]
  },
  {
   "cell_type": "code",
   "execution_count": 38,
   "metadata": {},
   "outputs": [
    {
     "data": {
      "text/plain": [
       "<matplotlib.colorbar.Colorbar at 0x140bcd898>"
      ]
     },
     "execution_count": 38,
     "metadata": {},
     "output_type": "execute_result"
    },
    {
     "data": {
      "image/png": "[encoded data removed]",
      "text/plain": [
       "<Figure size 432x288 with 2 Axes>"
      ]
     },
     "metadata": {
      "needs_background": "light"
     },
     "output_type": "display_data"
    }
   ],
   "source": [
    "plt.imshow(depth_map, cmap='magma')\n",
    "plt.title(\"Depth prediction\", fontsize=22)\n",
    "plt.axis('off')\n",
    "plt.colorbar()"
   ]
  },
  {
   "cell_type": "code",
   "execution_count": 39,
   "metadata": {},
   "outputs": [],
   "source": [
    "trapezoid=trapezoids_for_dfv[i]\n",
    "\n",
    "x_top_left=trapezoid[0]\n",
    "x_top_right=trapezoid[1]\n",
    "x_bottom_left=trapezoid[2]\n",
    "x_bottom_right=trapezoid[3]\n",
    "y_top=trapezoid[4]\n",
    "y_bottom=trapezoid[5]"
   ]
  },
  {
   "cell_type": "code",
   "execution_count": 40,
   "metadata": {},
   "outputs": [],
   "source": [
    "z1=depth_map[y_bottom][x_bottom_right]"
   ]
  },
  {
   "cell_type": "code",
   "execution_count": 41,
   "metadata": {},
   "outputs": [],
   "source": [
    "z2=depth_map[y_bottom][x_bottom_left]"
   ]
  },
  {
   "cell_type": "code",
   "execution_count": 42,
   "metadata": {},
   "outputs": [],
   "source": [
    "#z3=depth_map[y_top][x_top_left]\n",
    "z3=24"
   ]
  },
  {
   "cell_type": "code",
   "execution_count": 43,
   "metadata": {},
   "outputs": [],
   "source": [
    "#z4=depth_map[y_top][x_top_right]\n",
    "z4=24"
   ]
  },
  {
   "cell_type": "code",
   "execution_count": 44,
   "metadata": {},
   "outputs": [],
   "source": [
    "point1=[x_bottom_right,y_bottom,1]"
   ]
  },
  {
   "cell_type": "code",
   "execution_count": 45,
   "metadata": {},
   "outputs": [],
   "source": [
    "point2=[x_bottom_left,y_bottom,1]"
   ]
  },
  {
   "cell_type": "code",
   "execution_count": 46,
   "metadata": {},
   "outputs": [],
   "source": [
    "point3=[x_top_left,y_top,1]"
   ]
  },
  {
   "cell_type": "code",
   "execution_count": 47,
   "metadata": {},
   "outputs": [],
   "source": [
    "point4=[x_top_right,y_top,1]"
   ]
  },
  {
   "cell_type": "code",
   "execution_count": 48,
   "metadata": {},
   "outputs": [],
   "source": [
    "newpt1=z1*np.dot(inv_mtx,point1)\n",
    "newpt2=z2*np.dot(inv_mtx,point2)\n",
    "newpt3=z3*np.dot(inv_mtx,point3)\n",
    "newpt4=z4*np.dot(inv_mtx,point4)"
   ]
  },
  {
   "cell_type": "code",
   "execution_count": 49,
   "metadata": {},
   "outputs": [],
   "source": [
    "left_length=np.linalg.norm(newpt2-newpt3, ord=2)"
   ]
  },
  {
   "cell_type": "code",
   "execution_count": 50,
   "metadata": {},
   "outputs": [],
   "source": [
    "right_length=np.linalg.norm(newpt1-newpt4, ord=2)"
   ]
  },
  {
   "cell_type": "code",
   "execution_count": 51,
   "metadata": {},
   "outputs": [],
   "source": [
    "width1=np.linalg.norm(newpt2-newpt1, ord=2)"
   ]
  },
  {
   "cell_type": "code",
   "execution_count": 52,
   "metadata": {},
   "outputs": [],
   "source": [
    "width2=np.linalg.norm(newpt4-newpt3, ord=2)"
   ]
  },
  {
   "cell_type": "code",
   "execution_count": 53,
   "metadata": {},
   "outputs": [
    {
     "name": "stdout",
     "output_type": "stream",
     "text": [
      "20.875798293329307\n"
     ]
    }
   ],
   "source": [
    "print(left_length)"
   ]
  },
  {
   "cell_type": "code",
   "execution_count": 54,
   "metadata": {},
   "outputs": [
    {
     "name": "stdout",
     "output_type": "stream",
     "text": [
      "20.758779021904544\n"
     ]
    }
   ],
   "source": [
    "print(right_length)"
   ]
  },
  {
   "cell_type": "code",
   "execution_count": 55,
   "metadata": {},
   "outputs": [
    {
     "name": "stdout",
     "output_type": "stream",
     "text": [
      "4.061194513184261\n"
     ]
    }
   ],
   "source": [
    "print(width1)"
   ]
  },
  {
   "cell_type": "code",
   "execution_count": 56,
   "metadata": {},
   "outputs": [
    {
     "name": "stdout",
     "output_type": "stream",
     "text": [
      "3.9456382454462324\n"
     ]
    }
   ],
   "source": [
    "print(width2)"
   ]
  },
  {
   "cell_type": "code",
   "execution_count": 57,
   "metadata": {},
   "outputs": [],
   "source": [
    "def decide_x_split(i=i,trapezoids_for_dfv=trapezoids_for_dfv,width1=width1,width2=width2,bonnet=bonnet):\n",
    "    trapezoid=trapezoids_for_dfv[i]\n",
    "\n",
    "    x_top_left=trapezoid[0]\n",
    "    x_top_right=trapezoid[1]\n",
    "    x_bottom_left=trapezoid[2]\n",
    "    x_bottom_right=trapezoid[3]\n",
    "    y_top=trapezoid[4]\n",
    "    y_bottom=trapezoid[5]\n",
    "    \n",
    "    temp=(width1+width2)/2\n",
    "    result=temp//0.5\n",
    "    return result\n"
   ]
  },
  {
   "cell_type": "code",
   "execution_count": 58,
   "metadata": {},
   "outputs": [],
   "source": [
    "def decide_y_split(i=i,trapezoids_for_dfv=trapezoids_for_dfv,left_length=left_length,right_length=right_length,bonnet=bonnet):\n",
    "    trapezoid=trapezoids_for_dfv[i]\n",
    "\n",
    "    x_top_left=trapezoid[0]\n",
    "    x_top_right=trapezoid[1]\n",
    "    x_bottom_left=trapezoid[2]\n",
    "    x_bottom_right=trapezoid[3]\n",
    "    y_top=trapezoid[4]\n",
    "    y_bottom=trapezoid[5]\n",
    "    \n",
    "    temp=(left_length+right_length)/2\n",
    "    result=int(temp/0.5*(bonnet-y_top)/(y_bottom-y_top))\n",
    "    \n",
    "    return result\n",
    "\n",
    "\n",
    "\n"
   ]
  },
  {
   "cell_type": "code",
   "execution_count": 59,
   "metadata": {},
   "outputs": [],
   "source": [
    "#x_split=decide_x_split()\n",
    "#y_split=decide_y_split()"
   ]
  },
  {
   "cell_type": "markdown",
   "metadata": {},
   "source": [
    "## 分割数決定コードの精度が低いため現在は分割数は決め打ちで対応"
   ]
  },
  {
   "cell_type": "code",
   "execution_count": 60,
   "metadata": {},
   "outputs": [],
   "source": [
    "x_split =10\n",
    "y_split =10"
   ]
  },
  {
   "cell_type": "code",
   "execution_count": null,
   "metadata": {},
   "outputs": [],
   "source": []
  },
  {
   "cell_type": "code",
   "execution_count": null,
   "metadata": {},
   "outputs": [],
   "source": []
  }
 ],
 "metadata": {
  "kernelspec": {
   "display_name": "Python 3",
   "language": "python",
   "name": "python3"
  },
  "language_info": {
   "codemirror_mode": {
    "name": "ipython",
    "version": 3
   },
   "file_extension": ".py",
   "mimetype": "text/x-python",
   "name": "python",
   "nbconvert_exporter": "python",
   "pygments_lexer": "ipython3",
   "version": "3.7.3"
  }
 },
 "nbformat": 4,
 "nbformat_minor": 2
}
