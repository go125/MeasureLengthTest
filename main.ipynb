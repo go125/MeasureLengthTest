{
 "cells": [
  {
   "cell_type": "markdown",
   "metadata": {},
   "source": [
    "# Trimming"
   ]
  },
  {
   "cell_type": "code",
   "execution_count": 1,
   "metadata": {},
   "outputs": [],
   "source": [
    "import numpy as np\n",
    "from xml.etree import ElementTree\n",
    "import cv2\n",
    "from PIL import Image\n",
    "import tensorflow as tf\n",
    "import csv\n",
    "import argparse\n",
    "import os\n",
    "import pandas as pd\n",
    "import glob\n",
    "import matplotlib.pyplot as plt\n",
    "import pickle\n",
    "\n",
    "%matplotlib inline"
   ]
  },
  {
   "cell_type": "code",
   "execution_count": 2,
   "metadata": {},
   "outputs": [],
   "source": [
    "image_path = '../img'\n",
    "#Please prepare target images.\n",
    "image_path2 = '../calib'\n",
    "#Please prepare calibration images.\n",
    "save_path=\"../result_img\"\n",
    "#Please make an empty directory before execution.\n",
    "save_path2=\"../result_calib\"\n",
    "#Please make an empty directory before execution.\n",
    "option = \"use_const\"\n",
    "#Trapezoid option."
   ]
  },
  {
   "cell_type": "code",
   "execution_count": 3,
   "metadata": {},
   "outputs": [],
   "source": [
    "def trim():\n",
    "    global image_path,image_path2,save_path,save_path2\n",
    "    images = glob.glob(image_path+'/*.jpg')\n",
    "\n",
    "    print(images)\n",
    "\n",
    "    for indx, fname in enumerate(images):\n",
    "        img = cv2.imread(fname)\n",
    "        img2=img[1100:2340,0:4031]\n",
    "        img3=cv2.resize(img2,(416,128))\n",
    "        img_size = (img3.shape[1], img3.shape[0])\n",
    "        print(img_size)\n",
    "        #plt.imshow(img3)\n",
    "        print(save_path+\"/\"+str(indx)+\".jpg\")\n",
    "        cv2.imwrite(save_path+\"/\"+str(indx)+\".jpg\",img3)\n",
    "        images = glob.glob(image_path+'/*.jpg')\n",
    "    \n",
    "    images = glob.glob(image_path2+'/*.jpg')\n",
    "    print(images)\n",
    "\n",
    "    for indx, fname in enumerate(images):\n",
    "        img = cv2.imread(fname)\n",
    "        img2=img[1100:2340,0:4031]\n",
    "        img3=cv2.resize(img2,(416,128))\n",
    "        img_size = (img3.shape[1], img3.shape[0])\n",
    "        print(img_size)\n",
    "        #plt.imshow(img3)\n",
    "        print(save_path2+\"/\"+str(indx)+\".jpg\")\n",
    "        cv2.imwrite(save_path2+\"/\"+str(indx)+\".jpg\",img3)"
   ]
  },
  {
   "cell_type": "code",
   "execution_count": 4,
   "metadata": {},
   "outputs": [
    {
     "name": "stdout",
     "output_type": "stream",
     "text": [
      "['../img/IMG_8633_2.jpg', '../img/IMG_8633_3.jpg', '../img/IMG_8633.jpg']\n",
      "(416, 128)\n",
      "../result_img/0.jpg\n",
      "(416, 128)\n",
      "../result_img/1.jpg\n",
      "(416, 128)\n",
      "../result_img/2.jpg\n",
      "['../calib/IMG_8649.jpg', '../calib/IMG_8648.jpg', '../calib/IMG_8638.jpg', '../calib/IMG_8639.jpg', '../calib/IMG_8643.jpg', '../calib/IMG_8642.jpg', '../calib/IMG_8656.jpg', '../calib/IMG_8640.jpg', '../calib/IMG_8654.jpg', '../calib/IMG_8655.jpg', '../calib/IMG_8641.jpg', '../calib/IMG_8645.jpg', '../calib/IMG_8651.jpg', '../calib/IMG_8650.jpg', '../calib/IMG_8644.jpg', '../calib/IMG_8652.jpg', '../calib/IMG_8646.jpg', '../calib/IMG_8647.jpg', '../calib/IMG_8653.jpg']\n",
      "(416, 128)\n",
      "../result_calib/0.jpg\n",
      "(416, 128)\n",
      "../result_calib/1.jpg\n",
      "(416, 128)\n",
      "../result_calib/2.jpg\n",
      "(416, 128)\n",
      "../result_calib/3.jpg\n",
      "(416, 128)\n",
      "../result_calib/4.jpg\n",
      "(416, 128)\n",
      "../result_calib/5.jpg\n",
      "(416, 128)\n",
      "../result_calib/6.jpg\n",
      "(416, 128)\n",
      "../result_calib/7.jpg\n",
      "(416, 128)\n",
      "../result_calib/8.jpg\n",
      "(416, 128)\n",
      "../result_calib/9.jpg\n",
      "(416, 128)\n",
      "../result_calib/10.jpg\n",
      "(416, 128)\n",
      "../result_calib/11.jpg\n",
      "(416, 128)\n",
      "../result_calib/12.jpg\n",
      "(416, 128)\n",
      "../result_calib/13.jpg\n",
      "(416, 128)\n",
      "../result_calib/14.jpg\n",
      "(416, 128)\n",
      "../result_calib/15.jpg\n",
      "(416, 128)\n",
      "../result_calib/16.jpg\n",
      "(416, 128)\n",
      "../result_calib/17.jpg\n",
      "(416, 128)\n",
      "../result_calib/18.jpg\n"
     ]
    }
   ],
   "source": [
    "trim()"
   ]
  },
  {
   "attachments": {},
   "cell_type": "markdown",
   "metadata": {},
   "source": [
    "# Making trapezoid"
   ]
  },
  {
   "cell_type": "code",
   "execution_count": 5,
   "metadata": {},
   "outputs": [],
   "source": [
    "file_names=[]\n",
    "for file in os.listdir(save_path):\n",
    "    # Getting File Names\n",
    "    if os.path.isfile(os.path.join(save_path, file)):\n",
    "        file_names.append(os.path.basename(file))"
   ]
  },
  {
   "cell_type": "code",
   "execution_count": 6,
   "metadata": {},
   "outputs": [],
   "source": [
    "def decide_trapezoids(option):\n",
    "    trapezoids = []\n",
    "    if option==\"use_const\":\n",
    "        for i in range(len(file_names)):\n",
    "            #The trapezoid is constant.\n",
    "            trapezoid=[180,210,175,228,77,90]\n",
    "            trapezoids.append(trapezoid)\n",
    "    return (trapezoids)"
   ]
  },
  {
   "cell_type": "code",
   "execution_count": 7,
   "metadata": {},
   "outputs": [],
   "source": [
    "trapezoids=decide_trapezoids(option)\n",
    "trapezoids_for_dfv=decide_trapezoids(option)"
   ]
  },
  {
   "cell_type": "code",
   "execution_count": 8,
   "metadata": {},
   "outputs": [],
   "source": [
    "def draw_images(image_file,trapezoid,x_split=1,y_split=1):\n",
    "    \n",
    "    global save_path\n",
    "    \n",
    "    f_name=save_path+\"/\"+image_file\n",
    "    img=cv2.imread(f_name)\n",
    "   \n",
    "    x_top_left=trapezoid[0]\n",
    "    x_top_right=trapezoid[1]\n",
    "    x_bottom_left=trapezoid[2]\n",
    "    x_bottom_right=trapezoid[3]\n",
    "    y_top=trapezoid[4]\n",
    "    y_bottom=trapezoid[5]\n",
    "    \n",
    "    pts = np.array([[x_top_left,y_top],[x_bottom_left,y_bottom],[x_bottom_right,y_bottom],[x_top_right,y_top]])\n",
    "    \n",
    "    cv2.polylines(img,[pts],True,(0,255,255),2)\n",
    "    \n",
    "    pts2=[]\n",
    "    \n",
    "    #Maximum grid_x is x_split-1.\n",
    "    grid_x_max=x_split-1\n",
    "    #Initialize grid_x by 1.\n",
    "    grid_x=1\n",
    "    \n",
    "    while grid_x<=grid_x_max:\n",
    "        #Determine the y coordinates of the top and bottom ends of the grid for the current grid_x.\n",
    "        x_top_line=int(x_top_left+(x_top_right-x_top_left)*(grid_x/x_split))\n",
    "        x_bottom_line=int(x_bottom_left+(x_bottom_right-x_bottom_left)*(grid_x/x_split))\n",
    "        pts2.append([[x_top_line,y_top],[x_bottom_line,y_bottom]])\n",
    "        grid_x+=1\n",
    " \n",
    "    grid_y_max=y_split-1\n",
    "    grid_y=1\n",
    "    \n",
    "    while grid_y<=grid_y_max:\n",
    "        \n",
    "        x_left_line=int(x_top_left+(x_bottom_left-x_top_left)*(grid_y/y_split))\n",
    "        x_right_line=int(x_top_right+(x_bottom_right-x_top_right)*(grid_y/y_split))\n",
    "        y_line=int(y_top+(y_bottom-y_top)*(grid_y/y_split))\n",
    "        pts2.append([[x_left_line,y_line],[x_right_line,y_line]])\n",
    "        grid_y+=1\n",
    "    \n",
    "    for line in pts2:\n",
    "        \n",
    "        line=np.array(line)\n",
    "        cv2.polylines(img,[line],True,(0,255,255),2)\n",
    "    \n",
    "    \n",
    "    return img"
   ]
  },
  {
   "cell_type": "code",
   "execution_count": 9,
   "metadata": {},
   "outputs": [
    {
     "data": {
      "image/png": "[encoded data removed]",
      "text/plain": [
       "<Figure size 432x288 with 1 Axes>"
      ]
     },
     "metadata": {
      "needs_background": "light"
     },
     "output_type": "display_data"
    }
   ],
   "source": [
    "#Showing trapezoid\n",
    "for number, image in enumerate(file_names[0:1]):\n",
    "    trapezoid=trapezoids[number]\n",
    "    img = draw_images(image,trapezoid)\n",
    "    plt.axis('on')\n",
    "    plt.imshow(cv2.cvtColor(img, cv2.COLOR_BGR2RGB))\n",
    "    \n",
    "\n"
   ]
  },
  {
   "cell_type": "markdown",
   "metadata": {},
   "source": [
    "# Getting Depth map"
   ]
  },
  {
   "cell_type": "code",
   "execution_count": 10,
   "metadata": {},
   "outputs": [],
   "source": [
    "save_path3=\"../depth\""
   ]
  },
  {
   "cell_type": "markdown",
   "metadata": {},
   "source": [
    "Depth map can be obtained [struct2depth_eval](https://github.com/go125/struct2depth_eval).\n",
    "\n",
    "Please execute the code below in the struct2depth_eval directory.\n"
   ]
  },
  {
   "cell_type": "markdown",
   "metadata": {},
   "source": [
    "python inference_dfv.py \\\n",
    "    --logtostderr \\\n",
    "    --file_extension jpg \\\n",
    "    --depth \\\n",
    "    --egomotion false \\\n",
    "    --input_dir ../result_img/ \\\n",
    "    --output_dir ../depth/ \\\n",
    "    --model_ckpt ../cityscapes_kitti_learned_intrinsics/model-1000977"
   ]
  },
  {
   "cell_type": "code",
   "execution_count": null,
   "metadata": {},
   "outputs": [],
   "source": []
  },
  {
   "cell_type": "code",
   "execution_count": null,
   "metadata": {},
   "outputs": [],
   "source": []
  },
  {
   "cell_type": "code",
   "execution_count": null,
   "metadata": {},
   "outputs": [],
   "source": []
  },
  {
   "cell_type": "markdown",
   "metadata": {},
   "source": [
    "# Length Prediction"
   ]
  },
  {
   "cell_type": "code",
   "execution_count": null,
   "metadata": {},
   "outputs": [],
   "source": []
  },
  {
   "cell_type": "code",
   "execution_count": null,
   "metadata": {},
   "outputs": [],
   "source": []
  },
  {
   "cell_type": "code",
   "execution_count": null,
   "metadata": {},
   "outputs": [],
   "source": []
  },
  {
   "cell_type": "code",
   "execution_count": 11,
   "metadata": {},
   "outputs": [],
   "source": [
    "def undistort_img():\n",
    "    # Prepare object points 0,0,0 ... 8,5,0\n",
    "    obj_pts = np.zeros((4*4,3), np.float32)\n",
    "\n",
    "    #Changing the unit to meters.\n",
    "    obj_pts[:,:2] = np.mgrid[0:4, 0:4].T.reshape(-1,2)*0.022\n",
    "    \n",
    "    # Stores all object points & img points from all images\n",
    "    objpoints = []\n",
    "    imgpoints = []\n",
    "\n",
    "    \n",
    "    # Get directory for all calibration images    \n",
    "    images = glob.glob(save_path2+'/*.jpg')\n",
    "    \n",
    "\n",
    "    for indx, fname in enumerate(images):\n",
    "        img = cv2.imread(fname)\n",
    "        \n",
    "        gray = cv2.cvtColor(img, cv2.COLOR_BGR2GRAY)\n",
    "\n",
    "        ret, corners = cv2.findChessboardCorners(gray, (4,4), None)\n",
    "\n",
    "        if ret == True:\n",
    "            objpoints.append(obj_pts)\n",
    "            imgpoints.append(corners)\n",
    "            \n",
    "    # Test undistortion on img\n",
    "    img_size = (img.shape[1], img.shape[0])\n",
    "    ret, mtx, dist, rvecs, tvecs = cv2.calibrateCamera(objpoints, imgpoints, img_size, None,None)    \n",
    "    print(mtx)\n",
    "    dst = cv2.undistort(img, mtx, dist, None, mtx)\n",
    "    \n",
    "    # Save camera calibration for later use\n",
    "    dist_pickle = {}\n",
    "    dist_pickle['mtx'] = mtx\n",
    "    dist_pickle['dist'] = dist\n",
    "    pickle.dump( dist_pickle, open(save_path2+'calibration1.p', 'wb') )\n",
    "    \n",
    "        \n",
    "def undistort(img, cal_dir=save_path2+'camera_cal/calibration1.p'):\n",
    "    #cv2.imwrite('camera_cal_old/test_cal.jpg', dst)\n",
    "    with open(cal_dir, mode='rb') as f:\n",
    "        file = pickle.load(f)\n",
    "    mtx = file['mtx']\n",
    "    dist = file['dist']\n",
    "    dst = cv2.undistort(img, mtx, dist, None, mtx)\n",
    "    \n",
    "    return dst"
   ]
  },
  {
   "cell_type": "code",
   "execution_count": 12,
   "metadata": {},
   "outputs": [
    {
     "name": "stdout",
     "output_type": "stream",
     "text": [
      "[[403.85564364   0.         197.42704491]\n",
      " [  0.         375.0301349   63.40481553]\n",
      " [  0.           0.           1.        ]]\n"
     ]
    }
   ],
   "source": [
    "undistort_img()"
   ]
  },
  {
   "cell_type": "code",
   "execution_count": 13,
   "metadata": {},
   "outputs": [],
   "source": [
    "def get_mtx(cal_dir=save_path2+'calibration1.p'):\n",
    "    #cv2.imwrite('camera_cal_old/test_cal.jpg', dst)\n",
    "    with open(cal_dir, mode='rb') as f:\n",
    "        file = pickle.load(f)\n",
    "    mtx = file['mtx']\n",
    "    \n",
    "    return mtx"
   ]
  },
  {
   "cell_type": "code",
   "execution_count": 14,
   "metadata": {},
   "outputs": [],
   "source": [
    "mtx=get_mtx()"
   ]
  },
  {
   "cell_type": "code",
   "execution_count": 15,
   "metadata": {},
   "outputs": [],
   "source": [
    "inv_mtx = np.linalg.inv(mtx)"
   ]
  },
  {
   "cell_type": "code",
   "execution_count": 16,
   "metadata": {},
   "outputs": [],
   "source": [
    "file_names_2 = []\n",
    "for file in os.listdir(save_path):\n",
    "    if os.path.isfile(os.path.join(save_path, file)):\n",
    "        file2 = file.rstrip('.jpg\\n')\n",
    "        file_names_2.append(file2)"
   ]
  },
  {
   "cell_type": "code",
   "execution_count": 17,
   "metadata": {},
   "outputs": [],
   "source": [
    "depth_map_dir=\"../depth/\"\n",
    "\n",
    "i=0\n",
    "\n",
    "disp_map=np.load(depth_map_dir+file_names_2[i] + '.npy')"
   ]
  },
  {
   "cell_type": "code",
   "execution_count": 18,
   "metadata": {},
   "outputs": [
    {
     "data": {
      "text/plain": [
       "53248"
      ]
     },
     "execution_count": 18,
     "metadata": {},
     "output_type": "execute_result"
    }
   ],
   "source": [
    "disp_map.size"
   ]
  },
  {
   "cell_type": "code",
   "execution_count": 19,
   "metadata": {},
   "outputs": [],
   "source": [
    "a = cv2.resize(disp_map, (416,128))"
   ]
  },
  {
   "cell_type": "code",
   "execution_count": 20,
   "metadata": {},
   "outputs": [],
   "source": [
    "depth_map=a"
   ]
  },
  {
   "cell_type": "code",
   "execution_count": 21,
   "metadata": {},
   "outputs": [
    {
     "data": {
      "text/plain": [
       "<matplotlib.colorbar.Colorbar at 0x13cef99e8>"
      ]
     },
     "execution_count": 21,
     "metadata": {},
     "output_type": "execute_result"
    },
    {
     "data": {
      "image/png": "[encoded data removed]",
      "text/plain": [
       "<Figure size 432x288 with 2 Axes>"
      ]
     },
     "metadata": {
      "needs_background": "light"
     },
     "output_type": "display_data"
    }
   ],
   "source": [
    "plt.imshow(depth_map, cmap='magma')\n",
    "plt.title(\"Depth prediction\", fontsize=22)\n",
    "plt.axis('off')\n",
    "plt.colorbar()"
   ]
  },
  {
   "cell_type": "markdown",
   "metadata": {},
   "source": [
    "## Scale matching"
   ]
  },
  {
   "cell_type": "code",
   "execution_count": 22,
   "metadata": {},
   "outputs": [],
   "source": [
    "\n",
    "import math\n",
    "height=2\n",
    "theta=80\n",
    "theta=theta*math.pi/180"
   ]
  },
  {
   "cell_type": "code",
   "execution_count": 23,
   "metadata": {},
   "outputs": [],
   "source": [
    "truth_z=height/math.cos(theta)"
   ]
  },
  {
   "cell_type": "code",
   "execution_count": 24,
   "metadata": {},
   "outputs": [
    {
     "data": {
      "text/plain": [
       "11.517540966287262"
      ]
     },
     "execution_count": 24,
     "metadata": {},
     "output_type": "execute_result"
    }
   ],
   "source": [
    "truth_z"
   ]
  },
  {
   "cell_type": "code",
   "execution_count": 25,
   "metadata": {},
   "outputs": [],
   "source": [
    "def calc_center(xmin=1100,ymin=0,img_height=3024,img_width=4032,clip_height=1240,clip_width=4032,dfv_height=128,dfv_width=416):\n",
    "    #xとyが逆かも\n",
    "    #後で実装\n",
    "    center_ratio_x=(img_height//2-xmin)/clip_height\n",
    "    center_ratio_y=(img_width//2-ymin)/clip_width\n",
    "    center_x=int(dfv_height*center_ratio_x)\n",
    "    center_y=int(dfv_width*center_ratio_y)\n",
    "    return [center_x,center_y]"
   ]
  },
  {
   "cell_type": "code",
   "execution_count": 26,
   "metadata": {},
   "outputs": [],
   "source": [
    "center=calc_center()"
   ]
  },
  {
   "cell_type": "code",
   "execution_count": 27,
   "metadata": {},
   "outputs": [
    {
     "name": "stdout",
     "output_type": "stream",
     "text": [
      "42\n",
      "208\n"
     ]
    }
   ],
   "source": [
    "print(center[0])\n",
    "print(center[1])"
   ]
  },
  {
   "cell_type": "code",
   "execution_count": 28,
   "metadata": {},
   "outputs": [],
   "source": [
    "prezent_z=depth_map[center[0]][center[1]]\n",
    "#これだとうまくいかない"
   ]
  },
  {
   "cell_type": "code",
   "execution_count": 29,
   "metadata": {},
   "outputs": [
    {
     "data": {
      "text/plain": [
       "8.020953"
      ]
     },
     "execution_count": 29,
     "metadata": {},
     "output_type": "execute_result"
    }
   ],
   "source": [
    "prezent_z"
   ]
  },
  {
   "cell_type": "code",
   "execution_count": 30,
   "metadata": {},
   "outputs": [],
   "source": [
    "y_top=trapezoid[4]\n",
    "y_bottom=trapezoid[5]"
   ]
  },
  {
   "cell_type": "code",
   "execution_count": 31,
   "metadata": {},
   "outputs": [],
   "source": [
    "#trapezoid_center=int((trapezoid[4]+trapezoid[5])/2)\n",
    "#trapezoid_center=trapezoid[5]\n",
    "trapezoid_center=104"
   ]
  },
  {
   "cell_type": "code",
   "execution_count": 32,
   "metadata": {},
   "outputs": [
    {
     "data": {
      "text/plain": [
       "104"
      ]
     },
     "execution_count": 32,
     "metadata": {},
     "output_type": "execute_result"
    }
   ],
   "source": [
    "trapezoid_center"
   ]
  },
  {
   "cell_type": "code",
   "execution_count": 33,
   "metadata": {},
   "outputs": [],
   "source": [
    "prezent_z=depth_map[trapezoid_center][216]\n",
    "#これだとうまくいく\n"
   ]
  },
  {
   "cell_type": "code",
   "execution_count": 34,
   "metadata": {},
   "outputs": [
    {
     "data": {
      "text/plain": [
       "0.7043815"
      ]
     },
     "execution_count": 34,
     "metadata": {},
     "output_type": "execute_result"
    }
   ],
   "source": [
    "prezent_z"
   ]
  },
  {
   "cell_type": "code",
   "execution_count": 35,
   "metadata": {},
   "outputs": [],
   "source": [
    "scalar=truth_z/prezent_z"
   ]
  },
  {
   "cell_type": "code",
   "execution_count": 36,
   "metadata": {},
   "outputs": [],
   "source": [
    "depth_map=a*scalar"
   ]
  },
  {
   "cell_type": "code",
   "execution_count": 37,
   "metadata": {},
   "outputs": [
    {
     "data": {
      "text/plain": [
       "<matplotlib.colorbar.Colorbar at 0x13d916b70>"
      ]
     },
     "execution_count": 37,
     "metadata": {},
     "output_type": "execute_result"
    },
    {
     "data": {
      "image/png": "[encoded data removed]",
      "text/plain": [
       "<Figure size 432x288 with 2 Axes>"
      ]
     },
     "metadata": {
      "needs_background": "light"
     },
     "output_type": "display_data"
    }
   ],
   "source": [
    "plt.imshow(depth_map, cmap='magma')\n",
    "plt.title(\"Depth prediction\", fontsize=22)\n",
    "plt.axis('off')\n",
    "plt.colorbar()"
   ]
  },
  {
   "cell_type": "code",
   "execution_count": 38,
   "metadata": {},
   "outputs": [],
   "source": [
    "trapezoid=trapezoids_for_dfv[i]\n",
    "\n",
    "x_top_left=trapezoid[0]\n",
    "x_top_right=trapezoid[1]\n",
    "x_bottom_left=trapezoid[2]\n",
    "x_bottom_right=trapezoid[3]\n",
    "y_top=trapezoid[4]\n",
    "y_bottom=trapezoid[5]"
   ]
  },
  {
   "cell_type": "code",
   "execution_count": 39,
   "metadata": {},
   "outputs": [],
   "source": [
    "z1=depth_map[y_bottom][x_bottom_right]"
   ]
  },
  {
   "cell_type": "code",
   "execution_count": 40,
   "metadata": {},
   "outputs": [],
   "source": [
    "z2=depth_map[y_bottom][x_bottom_left]"
   ]
  },
  {
   "cell_type": "code",
   "execution_count": 41,
   "metadata": {},
   "outputs": [],
   "source": [
    "z3=depth_map[y_top][x_top_left]"
   ]
  },
  {
   "cell_type": "code",
   "execution_count": 42,
   "metadata": {},
   "outputs": [],
   "source": [
    "z4=depth_map[y_top][x_top_right]"
   ]
  },
  {
   "cell_type": "code",
   "execution_count": 43,
   "metadata": {},
   "outputs": [],
   "source": [
    "point1=[x_bottom_right,y_bottom,1]"
   ]
  },
  {
   "cell_type": "code",
   "execution_count": 44,
   "metadata": {},
   "outputs": [],
   "source": [
    "point2=[x_bottom_left,y_bottom,1]"
   ]
  },
  {
   "cell_type": "code",
   "execution_count": 45,
   "metadata": {},
   "outputs": [],
   "source": [
    "point3=[x_top_left,y_top,1]"
   ]
  },
  {
   "cell_type": "code",
   "execution_count": 46,
   "metadata": {},
   "outputs": [],
   "source": [
    "point4=[x_top_right,y_top,1]"
   ]
  },
  {
   "cell_type": "code",
   "execution_count": 47,
   "metadata": {},
   "outputs": [],
   "source": [
    "newpt1=z1*np.dot(inv_mtx,point1)\n",
    "newpt2=z2*np.dot(inv_mtx,point2)\n",
    "newpt3=z3*np.dot(inv_mtx,point3)\n",
    "newpt4=z4*np.dot(inv_mtx,point4)"
   ]
  },
  {
   "cell_type": "code",
   "execution_count": 48,
   "metadata": {},
   "outputs": [],
   "source": [
    "left_length=np.linalg.norm(newpt2-newpt3, ord=2)"
   ]
  },
  {
   "cell_type": "code",
   "execution_count": 49,
   "metadata": {},
   "outputs": [],
   "source": [
    "right_length=np.linalg.norm(newpt1-newpt4, ord=2)"
   ]
  },
  {
   "cell_type": "code",
   "execution_count": 50,
   "metadata": {},
   "outputs": [],
   "source": [
    "width1=np.linalg.norm(newpt2-newpt1, ord=2)"
   ]
  },
  {
   "cell_type": "code",
   "execution_count": 51,
   "metadata": {},
   "outputs": [],
   "source": [
    "width2=np.linalg.norm(newpt4-newpt3, ord=2)"
   ]
  },
  {
   "cell_type": "code",
   "execution_count": 52,
   "metadata": {},
   "outputs": [
    {
     "name": "stdout",
     "output_type": "stream",
     "text": [
      "12.637240286390384\n"
     ]
    }
   ],
   "source": [
    "print(left_length)"
   ]
  },
  {
   "cell_type": "code",
   "execution_count": 53,
   "metadata": {},
   "outputs": [
    {
     "name": "stdout",
     "output_type": "stream",
     "text": [
      "13.763298959140961\n"
     ]
    }
   ],
   "source": [
    "print(right_length)"
   ]
  },
  {
   "cell_type": "code",
   "execution_count": 54,
   "metadata": {},
   "outputs": [
    {
     "name": "stdout",
     "output_type": "stream",
     "text": [
      "2.49114381867411\n"
     ]
    }
   ],
   "source": [
    "print(width1)\n",
    "#bottom length"
   ]
  },
  {
   "cell_type": "code",
   "execution_count": 55,
   "metadata": {},
   "outputs": [
    {
     "name": "stdout",
     "output_type": "stream",
     "text": [
      "2.2830548471285455\n"
     ]
    }
   ],
   "source": [
    "print(width2)\n",
    "#top length"
   ]
  },
  {
   "cell_type": "code",
   "execution_count": null,
   "metadata": {},
   "outputs": [],
   "source": []
  },
  {
   "cell_type": "code",
   "execution_count": null,
   "metadata": {},
   "outputs": [],
   "source": []
  },
  {
   "cell_type": "code",
   "execution_count": null,
   "metadata": {},
   "outputs": [],
   "source": []
  },
  {
   "cell_type": "code",
   "execution_count": null,
   "metadata": {},
   "outputs": [],
   "source": []
  }
 ],
 "metadata": {
  "kernelspec": {
   "display_name": "Python 3",
   "language": "python",
   "name": "python3"
  },
  "language_info": {
   "codemirror_mode": {
    "name": "ipython",
    "version": 3
   },
   "file_extension": ".py",
   "mimetype": "text/x-python",
   "name": "python",
   "nbconvert_exporter": "python",
   "pygments_lexer": "ipython3",
   "version": "3.7.3"
  }
 },
 "nbformat": 4,
 "nbformat_minor": 2
}
